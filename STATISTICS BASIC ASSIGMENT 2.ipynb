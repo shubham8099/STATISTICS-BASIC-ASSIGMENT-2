{
 "cells": [
  {
   "cell_type": "code",
   "execution_count": 1,
   "id": "02851829-3ca0-4c28-9c85-26f2e69f1a44",
   "metadata": {},
   "outputs": [],
   "source": [
    "# JAI MAA SARASWATI"
   ]
  },
  {
   "cell_type": "markdown",
   "id": "50129cfa-9088-4bd1-a54b-a727a77a2466",
   "metadata": {},
   "source": [
    "Q1. What are the three measures of central tendency?"
   ]
  },
  {
   "cell_type": "markdown",
   "id": "9d093350-71f1-4707-815e-b9e324f9d44c",
   "metadata": {},
   "source": [
    "# Three Measure of central Tendency ^_^\n",
    "\n",
    "  * Mean(Average of the All Value)\n",
    "  * Median(Middle value)\n",
    "  * Mode(Most Frequent value)\n",
    "  \n",
    "=> These are the three value of the entral Tendecy   "
   ]
  },
  {
   "cell_type": "markdown",
   "id": "fc30729e-b011-4bc5-b270-2657f6fc6cb3",
   "metadata": {},
   "source": [
    "Q2. What is the difference between the mean, median, and mode? How are they used to measure the\n",
    "central tendency of a dataset?"
   ]
  },
  {
   "cell_type": "markdown",
   "id": "d3e2159c-26fd-4587-9ac6-e61ae257fa3c",
   "metadata": {},
   "source": [
    "* Let us the Discuss the all the term :-\n",
    "\n",
    "# Mean\n",
    "  * Definition => Mean is the Average of all the values in a Dataset .\n",
    "  * Calculation => Mean is calculated by summing all the value if the dataset and then divided by number values then we \n",
    "                   get the mean of the dataset.\n",
    "  * Sensitivity to outliers => the mean is sensitive to extreme value(outliers) in the dataset .    \n",
    "  \n",
    "# Median \n",
    "  * Definition => Median is the middle value of the dataset when they are arranged in the acending order .\n",
    "  * Calculation => For an odd value the median is the middle value . For an even number is median is the\n",
    "                   average of two middle value .\n",
    "  * Robustness to outliers => the mdeian is less effective by extreme value than the mean .\n",
    "  \n",
    "# Mode \n",
    "  * Definition => Mode is the value that apper the most Frequent in the dataset . \n",
    "  * Calculation => It found by identify the who comes many times in the dataset .\n",
    "  * Multimodel Distribution => A dataset may have no mode if no value repeat .\n",
    " \n",
    "# How they Measure the Central Tendency :-\n",
    "\n",
    " * Mean :- Represent the average value and provide a balance point for the data . \n",
    " * Median :- Represent the Middle Point,dividing the dataset into two equal halves . \n",
    " * Mode :- Represent the most occuring value int the dataset . "
   ]
  },
  {
   "cell_type": "markdown",
   "id": "5f603686-3c83-4f85-92c9-18a49e407272",
   "metadata": {},
   "source": [
    "Q3. Measure the three measures of central tendency for the given height data:\n",
    "\n",
    " [178,177,176,177,178.2,178,175,179,180,175,178.9,176.2,177,172.5,178,176.5]"
   ]
  },
  {
   "cell_type": "markdown",
   "id": "1c38d1f0-ac63-4bea-b146-499f0102dad9",
   "metadata": {},
   "source": [
    "* Let the Calculate the Mean,Median,Mode of this Dataset .\n",
    "\n",
    "* Data = [178,177,176,177,178.2,178,175,179,180,175,178.9,176.2,177,172.5,178,176.5]\n",
    "\n",
    "# Mean ^_^\n",
    "  \n",
    "  Mean = [178,177,176,177,178.2,178,175,179,180,175,178.9,176.2,177,172.5,178,176.5]/16\n",
    "  \n",
    "  * Mean ≈ 177.8\n",
    "  \n",
    "# Median @_@\n",
    "\n",
    " * Let first order the all the Data:[172.5, 175, 175, 176, 176, 176.2, 177, 177, 177, 178, 178, 178, 178, 178.2, 178.9, 180]\n",
    "   Since there are 16 values and the median is the average of 8th and 9th values . \n",
    "   \n",
    " * Median ≈ (177 + 177) / 2 = 177\n",
    " \n",
    "# Mode +_+ \n",
    "\n",
    " * The mode is the value that appear most frequently in the dataset . In this Dataset 178 is most frequent value\n",
    "   who appearing 4 times \n",
    "   \n",
    " * Mode = 178 \n",
    " \n",
    " \n",
    "* So the given Height Data : \n",
    "\n",
    "  * Mean ≈ 177.8\n",
    "  * Median = 177\n",
    "  * Mode = 178"
   ]
  },
  {
   "cell_type": "markdown",
   "id": "86d43896-563b-4ca8-b628-c4e3eb834473",
   "metadata": {},
   "source": [
    "Q4. Find the standard deviation for the given data:\n",
    "\n",
    "[178,177,176,177,178.2,178,175,179,180,175,178.9,176.2,177,172.5,178,176.5]"
   ]
  },
  {
   "cell_type": "markdown",
   "id": "1be936a9-c77e-4d19-9a32-9582d201b4fd",
   "metadata": {},
   "source": [
    "* To find the standard Deviation we have follow these steps :- \n",
    "\n",
    " * Find the mean of the Data.\n",
    " * Subtract the mean from each data point and square the result\n",
    " * Find the mean of those squared differences.\n",
    " * Take the square root of the result from step 3.\n",
    " \n",
    "* Let's calculate the standard deviation for the given height data:\n",
    "\n",
    "Data: [178, 177, 176, 177, 178.2, 178, 175, 179, 180, 175, 178.9, 176.2, 177, 172.5, 178, 176.5]\n",
    "\n",
    "# Calculate the Mean :- \n",
    "\n",
    " * Mean = (178 + 177 + 176 + 177 + 178.2 + 178 + 175 + 179 + 180 + 175 + 178.9 + 176.2 + 177 + 172.5 + 178 + 176.5) / 16\n",
    "\n",
    "   Mean ≈ 177.8\n",
    "   \n",
    "# Calculate the Square Difference :- \n",
    "\n",
    " \n",
    "  * Subtract the mean from each data point, square the result:\n",
    "\n",
    "    (178 - 177.8)^2, (177 - 177.8)^2, (176 - 177.8)^2, ... , (176.5 - 177.8)^2\n",
    "    \n",
    "# Find the Mean of Squared Differences:\n",
    "\n",
    " * Find the mean of the squared differences calculated in step 2.    \n",
    " \n",
    "# Take the Square Root:\n",
    "\n",
    " * Take the square root of the mean of squared differences from step 3. \n",
    " \n",
    "* Lets Perfrom the Calculations :- \n",
    "\n",
    " * Squared Differences: [0.04,0.64,3.24,0.04,0.44,0.04,6.76,2.44,7.84,7.84,1.21,2.44,0.04,28.09,0.16,2.89]\n",
    "\n",
    " * Mean of Squared Differences: \n",
    "   83.84/16 ≈ 5.24\n",
    "   \n",
    " * Standard Deviation : \n",
    "   \n",
    "   * Square Root of 5.24 = 2.29\n",
    "   \n",
    " * So, the standard deviation for the given height data is approximately 2.29."
   ]
  },
  {
   "cell_type": "markdown",
   "id": "d21cc262-632f-4624-98c8-46510473a46b",
   "metadata": {},
   "source": [
    "Q5. How are measures of dispersion such as range, variance, and standard deviation used to describe\n",
    "the spread of a dataset? Provide an example."
   ]
  },
  {
   "cell_type": "markdown",
   "id": "520ef10a-9e52-4dab-bb95-5e8937fe49f4",
   "metadata": {},
   "source": [
    "# Range :\n",
    " \n",
    " * Definition : Range is the difference between the maximum and minimum values in a dataset.\n",
    " * USE : It gives Quick and simple indication of spread of Data .\n",
    " * Example :- consider two dataset \n",
    "   Dataset A: [10, 15, 12, 18, 14]\n",
    "   Dataset B: [25, 30, 22, 28, 24]\n",
    "   Range_A = 18 - 10 = 8\n",
    "   Range_B = 30 - 22 = 8\n",
    "* Both datasets have the same range, but they may have different distributions.\n",
    "\n",
    "# Variance : \n",
    "\n",
    " * Definition: Variance measures the average squared deviation of each data point from the mean.\n",
    " * Use: It provides a more detailed measure of how spread out the values are, taking into account all data points.\n",
    " * Example: Consider a dataset:\n",
    "   Dataset C: [10, 15, 12, 18, 14]\n",
    "   Calculate the mean: [10, 15, 12, 18, 14]/5 = 13.8 \n",
    "   Calculate the squared differences from the mean: \n",
    "   [(-3.8)^2 , 1.2^2 ,(-1.8)^2 , 4.2^2 , 0.2^2 ]\n",
    "   Calculate the variance :\n",
    "   [(-3.8)^2 , 1.2^2 ,(-1.8)^2 , 4.2^2 , 0.2^2 ]/5 ≈ 8.36\n",
    "   \n",
    "# Standard Deviation:\n",
    "\n",
    " * Definition: Standard deviation is the square root of the variance. It provides a measure of the average deviation in the    original units of the data.\n",
    " * Use: It is commonly used as a more interpretable measure of spread than variance.\n",
    " * Example: Using Dataset C from the previous example, the standard deviation is    \n",
    "   Square root of 8.36 which is 2.89 \n",
    "   so standard deviation of the data set is 2.89  "
   ]
  },
  {
   "cell_type": "markdown",
   "id": "24cbe7d1-4bb9-46f0-ac22-7c0ff78d26b1",
   "metadata": {},
   "source": [
    "Q6. What is a Venn diagram?"
   ]
  },
  {
   "cell_type": "markdown",
   "id": "fa491429-0c71-4fd1-8e09-e5d487896057",
   "metadata": {},
   "source": [
    "* A venn diagram is a graphical representation of the relationship between different sets or group . \n",
    "  It consists of overlapping circle each representing a set and the overlapping region represent the \n",
    "  element which belongs to one or more sets . The primary purpose of venn diagram is to difference\n",
    "  between the different sets or data ."
   ]
  },
  {
   "cell_type": "markdown",
   "id": "35e64016-fdf2-41aa-8a9d-df0e91a5d2ac",
   "metadata": {},
   "source": [
    "Q7. For the two given sets A = (2,3,4,5,6,7) & B = (0,2,6,8,10). Find:\n",
    "\n",
    "(i)   \tA intersection B\t\n",
    "\n",
    "(ii)\tA ⋃ B"
   ]
  },
  {
   "cell_type": "markdown",
   "id": "b28e3880-38fd-4837-971b-cd1d806cd537",
   "metadata": {},
   "source": [
    "# A intersection B \n",
    "  \n",
    "  * Given Sets :-\n",
    "   A = (2,3,4,5,6,7) & B = (0,2,6,8,10)\n",
    "   \n",
    " * A intersection B = (2,6)\n",
    "\n",
    "# A U B \n",
    "\n",
    "  * A = (2,3,4,5,6,7) & B = (0,2,6,8,10)\n",
    "  \n",
    "  * A U B => (0,2,3,4,5,6,7,8,10)"
   ]
  },
  {
   "cell_type": "markdown",
   "id": "3ad5352e-9070-417d-b798-f69ae36d2d7b",
   "metadata": {},
   "source": [
    "Q8. What do you understand about skewness in data ?"
   ]
  },
  {
   "cell_type": "markdown",
   "id": "a309f0da-350f-4e45-835f-2d74eb698a81",
   "metadata": {},
   "source": [
    "# Skewness \n",
    "\n",
    "* Skewness is the measure of asymmetry or lack of symmetry in a data distribution . In a perfectly symmetrical \n",
    "  distribution the left and the right side of Histogram of probablity plot are mirror images of each other .\n",
    "  Skewness Qunatify the extent and direction of skew(Departure from horizontal symmetry) in a Dataset .  \n",
    "\n",
    "# There Are three Types of Skewness ^_^\n",
    "\n",
    "# Positive Skewness(Right Skewness)\n",
    "  * In the positive skewed Distribution , The right tail is longer or fatter than left tail .\n",
    "  * The majority of the data points are concentrated on the left side , and there are very few \n",
    "    extreme values on the right side.\n",
    "  * The Mean is typically greater than median in positive skewness distribution . \n",
    "  \n",
    "# Neagtive Skewness(Left Skewness)\n",
    "  * In the negative skewed Distribution , The left tail is longer or fatter than right tail. \n",
    "  * The majority of the data points are concentrated on the right side , and there are very few \n",
    "    extreme values on the left side . \n",
    "  * The mean is typically lesser than median in negative skewness distribution .\n",
    "\n",
    "# Zero Skewness \n",
    "  * A Dsitribution is consider symmetrically or normally distributed if it has zero skewness\n",
    "  * This means that the left & Right side of distribution are approximately equal in length . "
   ]
  },
  {
   "cell_type": "markdown",
   "id": "9bbdf2f1-e442-484a-9906-42108e6fed0e",
   "metadata": {},
   "source": [
    "Q9. If a data is right skewed then what will be the position of median with respect to mean ?"
   ]
  },
  {
   "cell_type": "markdown",
   "id": "12f53796-9783-445e-b819-3a679533d7aa",
   "metadata": {},
   "source": [
    "# Right Skewed :-\n",
    "\n",
    "  * In a right skewed distribution(positive skewed) the right tail of the distribution is longer\n",
    "    or a fatter than the left . This implies that there are some unusally high values(outliers)\n",
    "    on the right side of the distribution that pull the mean in that direction .\n",
    "    \n",
    "  * Position of Mean :- The mean is a typically greater than the median in a right skewed distribution \n",
    "                        the presence of outliers in the right tail pulls the mean in the higher values . \n",
    "                        \n",
    "  * Position of Median :- The Median is not as affected by the extreme values as the mean . In a right skewed\n",
    "                          distribution the median is less than the mean and is closer to the left side of the\n",
    "                          distribution .\n",
    "                          \n",
    "# MEAN > MEDIAN                     \n",
    "                          \n",
    "                          "
   ]
  },
  {
   "cell_type": "markdown",
   "id": "d73f96e1-2076-4b20-a4ff-d46dbe63341d",
   "metadata": {},
   "source": [
    "Q10. Explain the difference between covariance and correlation. How are these measures used in\n",
    "statistical analysis ?"
   ]
  },
  {
   "cell_type": "markdown",
   "id": "a088d066-db31-499e-ac90-da0d5c8ac9f4",
   "metadata": {},
   "source": [
    "# Covariance ^_^\n",
    "\n",
    " * Definition => Covariance measure the degree to which two variable change together . It indicates whether\n",
    "                 an increase in one variable correspond to increase or decrease in another variable.\n",
    "                 \n",
    " * Formula =>  For two variables X and Y, the covariance (cov(X, Y)) is calculated as the average of the product of the deviations of each variable from their respective means .     \n",
    " \n",
    "      * COV(XY) = summation(Xi-X)(Yi-Y)/n-1\n",
    "      \n",
    " * Interpretation \n",
    " \n",
    "  * (i) Positive covariance indicates a positive relationship(Both variables tend to increase or decrease together):\n",
    "  * (ii) Negative covariance indicates a negative relationship(One variable tend to increase and another decrease):\n",
    "  * (iii) Covariance magnitude is not standardized making it diffcult to compare the strength of relationship between\n",
    "          different pairs of variables .\n",
    "\n",
    "# Correlation \n",
    "   \n",
    " * Definition => Correlation is a standardize meausre if strength and direction of the linear relationship between two\n",
    "                 variables . It range froom -1 to 1, where -1 indiacates a perfect negative linear relationship where 1 \n",
    "                 indicates the perfect linear positive relationship and 0 indiactes no linear relationship .\n",
    "                 \n",
    " * FORMULA => the correlation is calculated by the dividing the covariance of X & Y by the product of their standard\n",
    "              deviation . \n",
    "              \n",
    " * P(X,Y) = covariance(X,Y)/standard deviation of their product X*Y \n",
    " \n",
    " * Interpretation \n",
    "  * (i) Postitive correaltion indicates the a postive linear relationship\n",
    "  * (ii) Negative correlation indicates the a negative linear relationship\n",
    "  * (iii) Correlation magnitude are standardize , allowing us to compare the strength of relationship across different pairs \n",
    "          variables . \n",
    "          \n",
    "# How They are used in Analysis :   \n",
    "\n",
    "# Covarinace :\n",
    "\n",
    " * (i) Used to assess the direction of the relationship between two variable .\n",
    " * (ii) Limited in the interpretability because the magnitude of covarince depends on the scales of the variables .\n",
    "\n",
    "# Correaltion : \n",
    " \n",
    " * (i) Provide a standardize meausre that is not affected by th scale of the variables .\n",
    " * (ii) Allows us for easy comparison of the strength and the direction of the relationship .\n",
    " * (iii) Widely used if various field such as finance , economics , and social science , to analyze the interpret\n",
    "         relationship between variables . "
   ]
  },
  {
   "cell_type": "markdown",
   "id": "ccbb2d1c-6f7a-442c-b68c-6f4aeea58abe",
   "metadata": {},
   "source": [
    "Q11. What is the formula for calculating the sample mean? Provide an example calculation for a\n",
    "dataset.\n",
    "\n"
   ]
  },
  {
   "cell_type": "markdown",
   "id": "9fe967bc-298c-4ba2-ba03-cdfb746952bb",
   "metadata": {},
   "source": [
    "* The sample Mean(or average) is calculated by summing up all the values in a dataset and then dividing the sum \n",
    "  by the number of observation in the dataset . The formula for sample mean(X) is :\n",
    "  \n",
    "  * X Bar = Summation of i to n to Xi/ n \n",
    "\n",
    "* where,\n",
    "  * X Bar is sample mean\n",
    "  * Xi is the individual value of dataset\n",
    "  * n is the number of observation in the dataset .\n",
    "  \n",
    "* Let us Taking the example :-\n",
    " \n",
    "S = [ 85, 90, 88, 92, and 87.] \n",
    "\n",
    "  * X bar =  [85+90+88+92+87]/5 = 88.4\n",
    "  \n",
    "* So the sample mean of the dataset is 88.4  "
   ]
  },
  {
   "cell_type": "markdown",
   "id": "287ad7ba-021c-4f1c-ad58-8281025c7500",
   "metadata": {},
   "source": [
    "Q12. For a normal distribution data what is the relationship between its measure of central tendency ?"
   ]
  },
  {
   "cell_type": "markdown",
   "id": "9ca83e47-6c85-40fb-b5a8-4a80d07216a3",
   "metadata": {},
   "source": [
    "* For a normal data distribution there are three common measure are mean , median and mode . In perfectly normally     distribution these measure of central tendency coincide and they all are located at the centre of the distribution . \n",
    "\n",
    "\n",
    "* Mean :- the mean of normal distribution is located at the centre and the distribution is symmetric around this mean\n",
    "          In Perfectly normal distribution , the mean is equal to median .\n",
    "          \n",
    "* Median :- The median is also at the centre of a normal distribution . In a perfectly symmetrical normal distribution\n",
    "            the median is equal to Mean .\n",
    "            \n",
    "* MODE :- The mode is also at the centre of the normal distribution . In a perfectly normal distribution the mode , median\n",
    "          and mean are the same . \n",
    "          \n",
    "# MEAN = MEIDAN = MODE       "
   ]
  },
  {
   "cell_type": "markdown",
   "id": "b46e10d8-230b-4ce0-9ee9-e24e421fdc2b",
   "metadata": {},
   "source": [
    "Q13. How is covariance different from correlation?"
   ]
  },
  {
   "cell_type": "markdown",
   "id": "9ad4c1c1-3729-4e8e-92e9-09b53105bee6",
   "metadata": {},
   "source": [
    "# DEFINITION :-\n",
    "\n",
    " * Covariance => Covariance measure the degree to which two variables change together . it can be positive , negative or \n",
    "                 Zero . A positive covariance indicates that as one variables increase and on the other hand another \n",
    "                 variables can be increased/decrese .\n",
    "             \n",
    " * Correlation => Correlation is standardzed measure of strength and direction of the linear relationship between\n",
    "                  two variables . it range from -1 to 1 . a correlation 1 indicates a perfect positive linear \n",
    "                  relationship , -1 indicates a perfect negative linear relationship and 0 indicates the no relation . \n",
    "                  \n",
    "# Scale :\n",
    "\n",
    " * Covariance => Covariance is not standardized , so its values depends on the units of the variables . therefore \n",
    "                 it can challenging to interpret the magnitude of covariance . \n",
    "                 \n",
    " * Correlation => Correlation is standardized so it is unitless and always be fall in between -1 to 1 , making it \n",
    "                  easier to interpret the strength and the direction of the relationship . \n",
    "\n",
    "# Interpretation :\n",
    "\n",
    " * Covariance => The magnitude of covariance is not easily be interpretable , and it depend on the scale of the variable\n",
    "                 being measured . \n",
    "                 \n",
    " * Correlation => the correlation coefficient provides a more interpretable measure as it is standardized . A correlation\n",
    "                  close to -1 to 1 indicate a strong linear relationship , while a correlation close 0 suggest a weak or\n",
    "                  no relationship.\n",
    "               \n",
    "# Range :\n",
    "\n",
    " * Covariance => Covariance can take any value , including positive and negative infinity.\n",
    " * Correlation => Correlation is always between -1 to 1 ."
   ]
  },
  {
   "cell_type": "markdown",
   "id": "83c8e9fc-5ce4-40a8-ba04-c2a38d315fab",
   "metadata": {},
   "source": [
    "Q14. How do outliers affect measures of central tendency and dispersion? Provide an example."
   ]
  },
  {
   "cell_type": "markdown",
   "id": "c1f977d9-82c8-4b3c-84fa-70cd3dfce5ea",
   "metadata": {},
   "source": [
    "# Measure of Central Tendency :-\n",
    "\n",
    "  * Mean: outliers have a strong effect on the mean because in involve summing of all values and dividing the values\n",
    "          by the number of values . A single extreme value call pull the mean in its direction .\n",
    "          \n",
    "  * Median: The median is a less affected by outliers since it is not influenced by the extreme values . \n",
    "            It represent the middle values when the data is sorted .\n",
    "            \n",
    "# Measure of Dispersion :-\n",
    "\n",
    "  * Range : Outliers can greatly affect the range , as the range difference between the maximum and minimum values .\n",
    "            A single outliers can increase the range significantly . \n",
    "            \n",
    "  * Variance and standard deviation : Outliers can have substantial impact on the variance and standard deviation because\n",
    "                                      on the squared difference from the mean . Outliers can lead to larger squared \n",
    "                                      difference increasing both variance and standard deviation . \n",
    "                                      \n",
    "* Let us taking an example :-\n",
    "\n",
    "  * Consider the dataset: 10, 12, 15, 14, 13, 20, 18, 16, 17, 200.\n",
    "  \n",
    "# Without outliers :- \n",
    "   * Mean => [10+12+15+14+13+20+18+16+17+200]/9 => 15.11\n",
    "   * Median => 15\n",
    "   * Range => 200-10 = 190 \n",
    "   * Variance => 23.56\n",
    "   * Standard Deviation => 4.85\n",
    "   \n",
    "# With outliers :- \n",
    "   * Mean => (10 + 12 + 15 + 14 + 13 + 20 + 18 + 16 + 17 + 200) / 10 = 31.5\n",
    "   * Median => 15.5\n",
    "   * Range => 200-10 = 190\n",
    "   * Variance => 2136.89\n",
    "   * Standard Deviation => 46.21\n",
    "   \n",
    "* In this example, the outlier (200) significantly affected the mean, variance, and standard deviation, while the median and range were less affected. This demonstrates the sensitivity of the mean and measures derived from it to extreme values, making the median and other resistant measures more robust in the presence of outliers.   "
   ]
  }
 ],
 "metadata": {
  "kernelspec": {
   "display_name": "Python 3 (ipykernel)",
   "language": "python",
   "name": "python3"
  },
  "language_info": {
   "codemirror_mode": {
    "name": "ipython",
    "version": 3
   },
   "file_extension": ".py",
   "mimetype": "text/x-python",
   "name": "python",
   "nbconvert_exporter": "python",
   "pygments_lexer": "ipython3",
   "version": "3.10.8"
  }
 },
 "nbformat": 4,
 "nbformat_minor": 5
}
